{
  "nbformat": 4,
  "nbformat_minor": 0,
  "metadata": {
    "colab": {
      "provenance": []
    },
    "kernelspec": {
      "name": "python3",
      "display_name": "Python 3"
    },
    "language_info": {
      "name": "python"
    }
  },
  "cells": [
    {
      "cell_type": "code",
      "execution_count": null,
      "metadata": {
        "id": "6vn5BTGznYlR"
      },
      "outputs": [],
      "source": [
        "import numpy as np\n",
        "import pandas as pd\n",
        "from matplotlib import pyplot as plt"
      ]
    },
    {
      "cell_type": "code",
      "source": [
        "from keras.datasets import mnist\n",
        "(x_train, y_train), (x_test, y_test) = mnist.load_data()"
      ],
      "metadata": {
        "colab": {
          "base_uri": "https://localhost:8080/"
        },
        "id": "Ln3IQnWb9-A6",
        "outputId": "6cfa3b60-cbf0-432e-abac-d33b89d49344"
      },
      "execution_count": null,
      "outputs": [
        {
          "output_type": "stream",
          "name": "stdout",
          "text": [
            "Downloading data from https://storage.googleapis.com/tensorflow/tf-keras-datasets/mnist.npz\n",
            "11490434/11490434 [==============================] - 1s 0us/step\n"
          ]
        }
      ]
    },
    {
      "cell_type": "code",
      "source": [
        "m,n,o = x_train.shape\n",
        "p,q,r = x_test.shape\n",
        "\n",
        "print(m,n,o)\n",
        "print(p,q,r)"
      ],
      "metadata": {
        "colab": {
          "base_uri": "https://localhost:8080/"
        },
        "id": "Bdl1qXPXDTlR",
        "outputId": "f12034e4-d493-442d-feb3-3865ad73e326"
      },
      "execution_count": null,
      "outputs": [
        {
          "output_type": "stream",
          "name": "stdout",
          "text": [
            "60000 28 28\n",
            "10000 28 28\n"
          ]
        }
      ]
    },
    {
      "cell_type": "code",
      "source": [
        "x_train = x_train.reshape(m ,784).T\n",
        "x_train = x_train / 255.\n",
        "x_test = x_test.reshape(p ,784).T\n",
        "x_test = x_test / 255.\n"
      ],
      "metadata": {
        "id": "SvSF9s1B-Vk7"
      },
      "execution_count": null,
      "outputs": []
    },
    {
      "cell_type": "code",
      "source": [
        "for index in range(10):\n",
        "    # new subplot with (i + 1)-th index laying on a grid\n",
        "    plt.subplot(2, 5, index + 1)\n",
        "\n",
        "    # drawing the plot\n",
        "    for i in np.random.randint(m, size=10):\n",
        "      plt.imshow(x_train[:,i].reshape(28,28), cmap='gray')\n",
        "      plt.title(y_train[i])\n",
        "      plt.xticks([]) # disabling xticks by Setting xticks to an empty list\n",
        "      plt.yticks([]) # disabling yticks by setting yticks to an empty list\n",
        "\n",
        "\n",
        "plt.show()"
      ],
      "metadata": {
        "colab": {
          "base_uri": "https://localhost:8080/",
          "height": 346
        },
        "id": "HLvWq8xqFAB_",
        "outputId": "abd8bf11-a48e-47b2-de6e-b47f474ff903"
      },
      "execution_count": null,
      "outputs": [
        {
          "output_type": "display_data",
          "data": {
            "text/plain": [
              "<Figure size 640x480 with 10 Axes>"
            ],
            "image/png": "[encoded data removed]"
          },
          "metadata": {}
        }
      ]
    },
    {
      "cell_type": "code",
      "source": [
        "for index in range(5):\n",
        "    # new subplot with (i + 1)-th index laying on a grid\n",
        "    plt.subplot(1, 5, index + 1)\n",
        "\n",
        "    # drawing the plot\n",
        "    for i in np.random.randint(p, size=10):\n",
        "      plt.imshow(x_test[:,i].reshape(28,28), cmap='gray')\n",
        "      plt.title(y_test[i])\n",
        "      plt.xticks([]) # disabling xticks by Setting xticks to an empty list\n",
        "      plt.yticks([]) # disabling yticks by setting yticks to an empty list\n",
        "\n",
        "\n",
        "plt.show()"
      ],
      "metadata": {
        "colab": {
          "base_uri": "https://localhost:8080/",
          "height": 144
        },
        "id": "ydaNmkFkPbEs",
        "outputId": "0640a11e-1bc6-499c-fa19-1c8a900ede58"
      },
      "execution_count": null,
      "outputs": [
        {
          "output_type": "display_data",
          "data": {
            "text/plain": [
              "<Figure size 640x480 with 5 Axes>"
            ],
            "image/png": "[encoded data removed]"
          },
          "metadata": {}
        }
      ]
    },
    {
      "cell_type": "code",
      "source": [
        "# initialize w1, b1, w2, b2\n",
        "\n",
        "def init_param(x1 = 10, y1 = 784, x2 = 10, y2 = 10):\n",
        "  W1 = np.random.rand(x1, y1) - 0.5\n",
        "  b1 = np.random.rand(x1, 1) - 0.5\n",
        "  W2 = np.random.rand(x2, y2) - 0.5\n",
        "  b2 = np.random.rand(x2, 1) - 0.5\n",
        "\n",
        "  return W1, b1, W2, b2\n",
        "\n",
        "def relu(Z):\n",
        "  return np.maximum(0, Z)\n",
        "\n",
        "def softmax(Z):\n",
        "  A = np.exp(Z) / sum(np.exp(Z))\n",
        "  return A\n",
        "\n",
        "def derive_relu(Z):\n",
        "  return Z > 0\n",
        "\n",
        "def one_hot(Y):\n",
        "    one_hot_Y = np.zeros((Y.size, Y.max() + 1))\n",
        "    one_hot_Y[np.arange(Y.size), Y] = 1\n",
        "    return one_hot_Y.T\n",
        "\n",
        "def forward_prop(W1, b1, W2, b2, X):\n",
        "  Z1 = W1.dot(X) + b1\n",
        "  A1 = relu(Z1)\n",
        "  Z2 = W2.dot(A1) + b2\n",
        "  A2 = softmax(Z2)\n",
        "\n",
        "  return Z1, A1, Z2, A2\n",
        "\n",
        "def back_prop(Z1, A1, Z2, A2, W2, X, Y):\n",
        "  one_hot_Y = one_hot(Y)\n",
        "  dZ2 = A2 - one_hot_Y\n",
        "  dW2 = 1 / m * dZ2.dot(A1.T)\n",
        "  db2 = 1 / m * np.sum(dZ2 )\n",
        "\n",
        "  dZ1 = W2.T.dot(dZ2) * derive_relu(Z1)\n",
        "  dW1 = 1 / m * dZ1.dot(X.T)\n",
        "  db1 = 1 / m * np.sum(dZ2)\n",
        "\n",
        "  return dW1, db1, dW2, db2\n",
        "\n",
        "def update_params(W1, b1, W2, b2, dW1, db1, dW2, db2, alpha):\n",
        "  W1 = W1 - alpha * dW1\n",
        "  b1 = b1 - alpha * db1\n",
        "  W2 = W2 - alpha * dW2\n",
        "  b2 = b2 - alpha * db2\n",
        "\n",
        "  return W1, b1, W2, b2"
      ],
      "metadata": {
        "id": "Tps4GMKWkBb_"
      },
      "execution_count": null,
      "outputs": []
    },
    {
      "cell_type": "code",
      "source": [
        "def get_pred(A2):\n",
        "  return np.argmax(A2,0)\n",
        "\n",
        "def get_accuracy(pred, Y):\n",
        "  print(pred, Y)\n",
        "  return np.sum(pred == Y ) / Y.size\n",
        "\n",
        "\n",
        "def gradient_decent(X, Y, alpha, iteration):\n",
        "\n",
        "  W1, b1, W2, b2 = init_param()\n",
        "  for i in range(iteration):\n",
        "    Z1, A1, Z2, A2 = forward_prop(W1, b1, W2, b2, X)\n",
        "    dW1, db1, dW2, db2 = back_prop(Z1, A1, Z2, A2, W2, X, Y)\n",
        "    W1, b1, W2, b2 = update_params(W1, b1, W2, b2, dW1, db1, dW2, db2, alpha)\n",
        "    if (i% 10 == 0):\n",
        "      print('Iteration: ', i)\n",
        "      print('Accuracy: ', get_accuracy(get_pred(A2), Y))\n",
        "\n",
        "  return W1, b1, W2, b2"
      ],
      "metadata": {
        "id": "RTDLA49Krq13"
      },
      "execution_count": null,
      "outputs": []
    },
    {
      "cell_type": "code",
      "source": [
        "W1, b1, W2, b2 = gradient_decent(x_train, y_train, 0.10, 200)"
      ],
      "metadata": {
        "colab": {
          "base_uri": "https://localhost:8080/"
        },
        "id": "2vm8vp1X3f0L",
        "outputId": "5b4f70da-1af8-4eb1-e9bb-b493e678e995"
      },
      "execution_count": null,
      "outputs": [
        {
          "output_type": "stream",
          "name": "stdout",
          "text": [
            "Iteration:  0\n",
            "[1 1 1 ... 1 1 8] [5 0 4 ... 5 6 8]\n",
            "Accuracy:  0.11975\n",
            "Iteration:  10\n",
            "[9 6 4 ... 2 6 8] [5 0 4 ... 5 6 8]\n",
            "Accuracy:  0.2608\n",
            "Iteration:  20\n",
            "[9 6 4 ... 3 6 8] [5 0 4 ... 5 6 8]\n",
            "Accuracy:  0.32595\n",
            "Iteration:  30\n",
            "[3 0 4 ... 3 6 8] [5 0 4 ... 5 6 8]\n",
            "Accuracy:  0.39015\n",
            "Iteration:  40\n",
            "[3 0 4 ... 3 6 8] [5 0 4 ... 5 6 8]\n",
            "Accuracy:  0.4538\n",
            "Iteration:  50\n",
            "[3 0 4 ... 3 6 8] [5 0 4 ... 5 6 8]\n",
            "Accuracy:  0.5162666666666667\n",
            "Iteration:  60\n",
            "[3 0 4 ... 3 6 8] [5 0 4 ... 5 6 8]\n",
            "Accuracy:  0.5497333333333333\n",
            "Iteration:  70\n",
            "[3 0 4 ... 3 6 8] [5 0 4 ... 5 6 8]\n",
            "Accuracy:  0.57855\n",
            "Iteration:  80\n",
            "[3 0 4 ... 3 6 8] [5 0 4 ... 5 6 8]\n",
            "Accuracy:  0.6056166666666667\n",
            "Iteration:  90\n",
            "[3 0 4 ... 3 6 8] [5 0 4 ... 5 6 8]\n",
            "Accuracy:  0.6290833333333333\n",
            "Iteration:  100\n",
            "[3 0 4 ... 3 6 8] [5 0 4 ... 5 6 8]\n",
            "Accuracy:  0.6496833333333333\n",
            "Iteration:  110\n",
            "[3 0 4 ... 5 6 8] [5 0 4 ... 5 6 8]\n",
            "Accuracy:  0.6671166666666667\n",
            "Iteration:  120\n",
            "[3 0 4 ... 5 6 8] [5 0 4 ... 5 6 8]\n",
            "Accuracy:  0.6844\n",
            "Iteration:  130\n",
            "[3 0 4 ... 5 6 8] [5 0 4 ... 5 6 8]\n",
            "Accuracy:  0.6984\n",
            "Iteration:  140\n",
            "[3 0 4 ... 5 6 8] [5 0 4 ... 5 6 8]\n",
            "Accuracy:  0.7114\n",
            "Iteration:  150\n",
            "[3 0 4 ... 5 6 8] [5 0 4 ... 5 6 8]\n",
            "Accuracy:  0.72385\n",
            "Iteration:  160\n",
            "[3 0 4 ... 5 6 8] [5 0 4 ... 5 6 8]\n",
            "Accuracy:  0.7347333333333333\n",
            "Iteration:  170\n",
            "[3 0 4 ... 5 6 8] [5 0 4 ... 5 6 8]\n",
            "Accuracy:  0.7451\n",
            "Iteration:  180\n",
            "[3 0 4 ... 5 6 8] [5 0 4 ... 5 6 8]\n",
            "Accuracy:  0.7536\n",
            "Iteration:  190\n",
            "[3 0 4 ... 5 6 8] [5 0 4 ... 5 6 8]\n",
            "Accuracy:  0.7617166666666667\n"
          ]
        }
      ]
    },
    {
      "cell_type": "code",
      "source": [
        "print(W1, b1, W2, b2)"
      ],
      "metadata": {
        "colab": {
          "base_uri": "https://localhost:8080/"
        },
        "id": "PVOqWGwyxyRw",
        "outputId": "b5e17d64-a944-4fb4-e21f-1ed5862bd276"
      },
      "execution_count": null,
      "outputs": [
        {
          "output_type": "stream",
          "name": "stdout",
          "text": [
            "[[-0.32759186 -0.0823817  -0.20338416 ...  0.48999748 -0.20900974\n",
            "  -0.48153359]\n",
            " [ 0.35784278  0.49083859 -0.41993997 ... -0.1131771  -0.28221778\n",
            "  -0.39964735]\n",
            " [ 0.48567587 -0.47654501 -0.01379603 ...  0.32707716 -0.17752081\n",
            "  -0.15721114]\n",
            " ...\n",
            " [-0.32729108  0.43225324 -0.48802636 ...  0.10952781  0.17178839\n",
            "  -0.19920842]\n",
            " [ 0.32946463  0.1078261   0.29353452 ... -0.21048812 -0.28848467\n",
            "  -0.0913775 ]\n",
            " [ 0.35737946 -0.08994526 -0.28792324 ... -0.24378042  0.09152116\n",
            "  -0.32462392]] [[-0.18286675]\n",
            " [-0.44190406]\n",
            " [ 0.15042062]\n",
            " [ 0.18816493]\n",
            " [-0.35079364]\n",
            " [-0.29710538]\n",
            " [ 0.2480128 ]\n",
            " [-0.04977966]\n",
            " [-0.2078776 ]\n",
            " [-0.24397941]] [[ 0.20053281  0.57503357  0.19523669 -0.21533755  0.1373518   0.76366999\n",
            "  -0.13270655 -0.55090379 -0.8376611  -0.87630807]\n",
            " [-0.3151602  -0.53524118  0.07412549  0.24011052  0.20684759 -0.86599191\n",
            "   0.30089325 -0.77496356 -0.48558104  1.33062742]\n",
            " [-0.52495585 -0.44021999  0.84512744  0.19408061 -0.22364019  0.45974879\n",
            "   0.45958849  0.04591445 -0.59816483  0.28458814]\n",
            " [ 0.48538605 -0.24285592  0.9785607  -0.02080307  0.1906261  -0.29385378\n",
            "   0.7081856   0.0156168  -0.56414312  0.07095848]\n",
            " [-0.07233542 -1.28884958 -1.13663313  0.24662142 -0.14544666  0.20978437\n",
            "  -0.38227049 -0.39276891  1.04215307 -0.47995622]\n",
            " [ 0.92029012  0.04052482 -0.12029953  0.72780315 -0.32643802  0.32106271\n",
            "   0.27999849 -0.13754607 -0.42878339 -0.12602358]\n",
            " [ 0.20619669 -0.71501336 -0.78502811 -0.28271255 -0.28792399  0.75333526\n",
            "  -0.14673858  0.61748789 -0.79401862  0.12495325]\n",
            " [-0.94244156  0.28123881  0.76322356  0.13461182 -0.04154093 -0.65951719\n",
            "   0.47629763  0.0910915   0.10293757  0.0527602 ]\n",
            " [ 0.37991411 -0.26229334  0.21052415 -0.03963482 -0.54592669  0.36034472\n",
            "   0.05484133 -0.67698212  0.06557532  0.49303688]\n",
            " [ 0.04620987 -0.01624725  0.24186036  0.00671173 -0.12013849 -0.32043336\n",
            "  -0.6564796  -0.01624183  0.62029224 -0.29806384]] [[-0.22423651]\n",
            " [ 0.19328158]\n",
            " [ 0.34619538]\n",
            " [ 0.04673066]\n",
            " [-0.3062663 ]\n",
            " [-0.41647351]\n",
            " [ 0.44185729]\n",
            " [-0.36064869]\n",
            " [-0.46637129]\n",
            " [-0.33619415]]\n"
          ]
        }
      ]
    },
    {
      "cell_type": "code",
      "source": [
        " Z1, A1, Z2, A2 = forward_prop(W1, b1, W2, b2, x_test)"
      ],
      "metadata": {
        "id": "cpB0zrVaoTd5"
      },
      "execution_count": null,
      "outputs": []
    },
    {
      "cell_type": "code",
      "source": [
        "A2.shape"
      ],
      "metadata": {
        "colab": {
          "base_uri": "https://localhost:8080/"
        },
        "id": "nMPEFrNVo46z",
        "outputId": "1cf5d566-f478-4b5a-e7c7-bd400eb8a014"
      },
      "execution_count": null,
      "outputs": [
        {
          "output_type": "execute_result",
          "data": {
            "text/plain": [
              "(10, 10000)"
            ]
          },
          "metadata": {},
          "execution_count": 48
        }
      ]
    },
    {
      "cell_type": "code",
      "source": [
        "y_pred = get_pred(A2)"
      ],
      "metadata": {
        "id": "-dNZaoS9o7W0"
      },
      "execution_count": null,
      "outputs": []
    },
    {
      "cell_type": "code",
      "source": [
        "y_pred.shape"
      ],
      "metadata": {
        "colab": {
          "base_uri": "https://localhost:8080/"
        },
        "id": "zAn_njsapGWk",
        "outputId": "a922318e-390a-40dd-8ad4-dcf28db1b910"
      },
      "execution_count": null,
      "outputs": [
        {
          "output_type": "execute_result",
          "data": {
            "text/plain": [
              "(10000,)"
            ]
          },
          "metadata": {},
          "execution_count": 50
        }
      ]
    },
    {
      "cell_type": "code",
      "source": [
        "get_accuracy(y_pred, y_test)"
      ],
      "metadata": {
        "colab": {
          "base_uri": "https://localhost:8080/"
        },
        "id": "_4RD2-bTpHsM",
        "outputId": "fbc71e57-277f-40a0-a432-aa2d6c7ddd3a"
      },
      "execution_count": null,
      "outputs": [
        {
          "output_type": "stream",
          "name": "stdout",
          "text": [
            "[7 2 1 ... 4 5 6] [7 2 1 ... 4 5 6]\n"
          ]
        },
        {
          "output_type": "execute_result",
          "data": {
            "text/plain": [
              "0.8193"
            ]
          },
          "metadata": {},
          "execution_count": 51
        }
      ]
    },
    {
      "cell_type": "code",
      "source": [],
      "metadata": {
        "id": "7ZeHMd6FpZri"
      },
      "execution_count": null,
      "outputs": []
    },
    {
      "cell_type": "code",
      "source": [
        "for index in range(5):\n",
        "    # new subplot with (i + 1)-th index laying on a grid\n",
        "    plt.subplot(1, 5, index + 1)\n",
        "\n",
        "    # drawing the plot\n",
        "    for i in np.random.randint(p, size=10):\n",
        "      plt.imshow(x_test[:,i].reshape(28,28), cmap='gray')\n",
        "      plt.title( 'Actual: '+str(y_test[i])+'\\nPred: '+str(y_pred[i]) )\n",
        "      plt.xticks([]) # disabling xticks by Setting xticks to an empty list\n",
        "      plt.yticks([]) # disabling yticks by setting yticks to an empty list\n",
        "\n",
        "\n",
        "plt.show()"
      ],
      "metadata": {
        "colab": {
          "base_uri": "https://localhost:8080/",
          "height": 165
        },
        "outputId": "34dd619f-9ec3-498d-9922-1bff7aa10bb3",
        "id": "xnfIFYPJpg0R"
      },
      "execution_count": null,
      "outputs": [
        {
          "output_type": "display_data",
          "data": {
            "text/plain": [
              "<Figure size 640x480 with 5 Axes>"
            ],
            "image/png": "[encoded data removed]"
          },
          "metadata": {}
        }
      ]
    },
    {
      "cell_type": "code",
      "source": [],
      "metadata": {
        "id": "ejaTsurmpvPA"
      },
      "execution_count": null,
      "outputs": []
    }
  ]
}